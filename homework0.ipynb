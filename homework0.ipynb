{
 "cells": [
  {
   "cell_type": "code",
   "execution_count": 2,
   "metadata": {},
   "outputs": [],
   "source": [
    "import pandas as pd\n",
    "import numpy as np\n",
    "import matplotlib.pyplot as plt\n",
    "import seaborn\n",
    "import tushare as ts\n",
    "import math\n",
    "%matplotlib inline"
   ]
  },
  {
   "cell_type": "code",
   "execution_count": 3,
   "metadata": {
    "scrolled": true
   },
   "outputs": [],
   "source": [
    "#df_63 = ts.get_k_data('000063','2019-01-01','2019-12-31')\n",
    "df_63 = pd.read_csv(\"601318.csv\")"
   ]
  },
  {
   "cell_type": "code",
   "execution_count": 4,
   "metadata": {},
   "outputs": [
    {
     "data": {
      "text/html": [
       "<div>\n",
       "<style scoped>\n",
       "    .dataframe tbody tr th:only-of-type {\n",
       "        vertical-align: middle;\n",
       "    }\n",
       "\n",
       "    .dataframe tbody tr th {\n",
       "        vertical-align: top;\n",
       "    }\n",
       "\n",
       "    .dataframe thead th {\n",
       "        text-align: right;\n",
       "    }\n",
       "</style>\n",
       "<table border=\"1\" class=\"dataframe\">\n",
       "  <thead>\n",
       "    <tr style=\"text-align: right;\">\n",
       "      <th></th>\n",
       "      <th>date</th>\n",
       "      <th>open</th>\n",
       "      <th>close</th>\n",
       "      <th>high</th>\n",
       "      <th>low</th>\n",
       "      <th>volume</th>\n",
       "    </tr>\n",
       "  </thead>\n",
       "  <tbody>\n",
       "    <tr>\n",
       "      <th>0</th>\n",
       "      <td>2020年7月20日</td>\n",
       "      <td>79.05</td>\n",
       "      <td>81.87</td>\n",
       "      <td>82.70</td>\n",
       "      <td>79.05</td>\n",
       "      <td>112.36M</td>\n",
       "    </tr>\n",
       "    <tr>\n",
       "      <th>1</th>\n",
       "      <td>2020年7月17日</td>\n",
       "      <td>79.00</td>\n",
       "      <td>78.02</td>\n",
       "      <td>79.39</td>\n",
       "      <td>77.31</td>\n",
       "      <td>87.50M</td>\n",
       "    </tr>\n",
       "    <tr>\n",
       "      <th>2</th>\n",
       "      <td>2020年7月16日</td>\n",
       "      <td>81.30</td>\n",
       "      <td>78.22</td>\n",
       "      <td>81.95</td>\n",
       "      <td>78.16</td>\n",
       "      <td>131.82M</td>\n",
       "    </tr>\n",
       "    <tr>\n",
       "      <th>3</th>\n",
       "      <td>2020年7月15日</td>\n",
       "      <td>82.15</td>\n",
       "      <td>80.22</td>\n",
       "      <td>82.39</td>\n",
       "      <td>80.12</td>\n",
       "      <td>92.28M</td>\n",
       "    </tr>\n",
       "    <tr>\n",
       "      <th>4</th>\n",
       "      <td>2020年7月14日</td>\n",
       "      <td>82.37</td>\n",
       "      <td>81.30</td>\n",
       "      <td>83.23</td>\n",
       "      <td>80.61</td>\n",
       "      <td>98.86M</td>\n",
       "    </tr>\n",
       "  </tbody>\n",
       "</table>\n",
       "</div>"
      ],
      "text/plain": [
       "         date   open  close   high    low   volume\n",
       "0  2020年7月20日  79.05  81.87  82.70  79.05  112.36M\n",
       "1  2020年7月17日  79.00  78.02  79.39  77.31   87.50M\n",
       "2  2020年7月16日  81.30  78.22  81.95  78.16  131.82M\n",
       "3  2020年7月15日  82.15  80.22  82.39  80.12   92.28M\n",
       "4  2020年7月14日  82.37  81.30  83.23  80.61   98.86M"
      ]
     },
     "execution_count": 4,
     "metadata": {},
     "output_type": "execute_result"
    }
   ],
   "source": [
    "df_63.head()"
   ]
  },
  {
   "cell_type": "code",
   "execution_count": 5,
   "metadata": {},
   "outputs": [],
   "source": [
    "#计算收益率\n",
    "df_63['d_return'] = df_63['close'].pct_change() \n",
    "# np.percentile方法计算分位数，前提是不能有空值；\n",
    "VaR_5 = np.percentile(df_63.d_return.dropna(), 5)         \n",
    "VaR_1 = np.percentile(df_63.d_return.dropna(), 1)"
   ]
  },
  {
   "cell_type": "code",
   "execution_count": 6,
   "metadata": {},
   "outputs": [
    {
     "data": {
      "text/html": [
       "<div>\n",
       "<style scoped>\n",
       "    .dataframe tbody tr th:only-of-type {\n",
       "        vertical-align: middle;\n",
       "    }\n",
       "\n",
       "    .dataframe tbody tr th {\n",
       "        vertical-align: top;\n",
       "    }\n",
       "\n",
       "    .dataframe thead th {\n",
       "        text-align: right;\n",
       "    }\n",
       "</style>\n",
       "<table border=\"1\" class=\"dataframe\">\n",
       "  <thead>\n",
       "    <tr style=\"text-align: right;\">\n",
       "      <th></th>\n",
       "      <th>date</th>\n",
       "      <th>open</th>\n",
       "      <th>close</th>\n",
       "      <th>high</th>\n",
       "      <th>low</th>\n",
       "      <th>volume</th>\n",
       "      <th>d_return</th>\n",
       "    </tr>\n",
       "  </thead>\n",
       "  <tbody>\n",
       "    <tr>\n",
       "      <th>0</th>\n",
       "      <td>2020年7月20日</td>\n",
       "      <td>79.05</td>\n",
       "      <td>81.87</td>\n",
       "      <td>82.70</td>\n",
       "      <td>79.05</td>\n",
       "      <td>112.36M</td>\n",
       "      <td>NaN</td>\n",
       "    </tr>\n",
       "    <tr>\n",
       "      <th>1</th>\n",
       "      <td>2020年7月17日</td>\n",
       "      <td>79.00</td>\n",
       "      <td>78.02</td>\n",
       "      <td>79.39</td>\n",
       "      <td>77.31</td>\n",
       "      <td>87.50M</td>\n",
       "      <td>-0.047026</td>\n",
       "    </tr>\n",
       "    <tr>\n",
       "      <th>2</th>\n",
       "      <td>2020年7月16日</td>\n",
       "      <td>81.30</td>\n",
       "      <td>78.22</td>\n",
       "      <td>81.95</td>\n",
       "      <td>78.16</td>\n",
       "      <td>131.82M</td>\n",
       "      <td>0.002563</td>\n",
       "    </tr>\n",
       "    <tr>\n",
       "      <th>3</th>\n",
       "      <td>2020年7月15日</td>\n",
       "      <td>82.15</td>\n",
       "      <td>80.22</td>\n",
       "      <td>82.39</td>\n",
       "      <td>80.12</td>\n",
       "      <td>92.28M</td>\n",
       "      <td>0.025569</td>\n",
       "    </tr>\n",
       "    <tr>\n",
       "      <th>4</th>\n",
       "      <td>2020年7月14日</td>\n",
       "      <td>82.37</td>\n",
       "      <td>81.30</td>\n",
       "      <td>83.23</td>\n",
       "      <td>80.61</td>\n",
       "      <td>98.86M</td>\n",
       "      <td>0.013463</td>\n",
       "    </tr>\n",
       "    <tr>\n",
       "      <th>...</th>\n",
       "      <td>...</td>\n",
       "      <td>...</td>\n",
       "      <td>...</td>\n",
       "      <td>...</td>\n",
       "      <td>...</td>\n",
       "      <td>...</td>\n",
       "      <td>...</td>\n",
       "    </tr>\n",
       "    <tr>\n",
       "      <th>126</th>\n",
       "      <td>2020年1月8日</td>\n",
       "      <td>85.98</td>\n",
       "      <td>85.00</td>\n",
       "      <td>85.98</td>\n",
       "      <td>84.50</td>\n",
       "      <td>62.81M</td>\n",
       "      <td>-0.000470</td>\n",
       "    </tr>\n",
       "    <tr>\n",
       "      <th>127</th>\n",
       "      <td>2020年1月7日</td>\n",
       "      <td>86.01</td>\n",
       "      <td>86.15</td>\n",
       "      <td>86.46</td>\n",
       "      <td>85.67</td>\n",
       "      <td>45.22M</td>\n",
       "      <td>0.013529</td>\n",
       "    </tr>\n",
       "    <tr>\n",
       "      <th>128</th>\n",
       "      <td>2020年1月6日</td>\n",
       "      <td>85.92</td>\n",
       "      <td>85.60</td>\n",
       "      <td>86.87</td>\n",
       "      <td>85.50</td>\n",
       "      <td>63.65M</td>\n",
       "      <td>-0.006384</td>\n",
       "    </tr>\n",
       "    <tr>\n",
       "      <th>129</th>\n",
       "      <td>2020年1月3日</td>\n",
       "      <td>86.81</td>\n",
       "      <td>86.20</td>\n",
       "      <td>86.88</td>\n",
       "      <td>85.90</td>\n",
       "      <td>59.50M</td>\n",
       "      <td>0.007009</td>\n",
       "    </tr>\n",
       "    <tr>\n",
       "      <th>130</th>\n",
       "      <td>2020年1月2日</td>\n",
       "      <td>85.90</td>\n",
       "      <td>86.12</td>\n",
       "      <td>86.79</td>\n",
       "      <td>85.88</td>\n",
       "      <td>77.83M</td>\n",
       "      <td>-0.000928</td>\n",
       "    </tr>\n",
       "  </tbody>\n",
       "</table>\n",
       "<p>131 rows × 7 columns</p>\n",
       "</div>"
      ],
      "text/plain": [
       "           date   open  close   high    low   volume  d_return\n",
       "0    2020年7月20日  79.05  81.87  82.70  79.05  112.36M       NaN\n",
       "1    2020年7月17日  79.00  78.02  79.39  77.31   87.50M -0.047026\n",
       "2    2020年7月16日  81.30  78.22  81.95  78.16  131.82M  0.002563\n",
       "3    2020年7月15日  82.15  80.22  82.39  80.12   92.28M  0.025569\n",
       "4    2020年7月14日  82.37  81.30  83.23  80.61   98.86M  0.013463\n",
       "..          ...    ...    ...    ...    ...      ...       ...\n",
       "126   2020年1月8日  85.98  85.00  85.98  84.50   62.81M -0.000470\n",
       "127   2020年1月7日  86.01  86.15  86.46  85.67   45.22M  0.013529\n",
       "128   2020年1月6日  85.92  85.60  86.87  85.50   63.65M -0.006384\n",
       "129   2020年1月3日  86.81  86.20  86.88  85.90   59.50M  0.007009\n",
       "130   2020年1月2日  85.90  86.12  86.79  85.88   77.83M -0.000928\n",
       "\n",
       "[131 rows x 7 columns]"
      ]
     },
     "execution_count": 6,
     "metadata": {},
     "output_type": "execute_result"
    }
   ],
   "source": [
    "df_63"
   ]
  },
  {
   "cell_type": "code",
   "execution_count": 8,
   "metadata": {},
   "outputs": [
    {
     "data": {
      "text/plain": [
       "Text(0, 0.5, 'count')"
      ]
     },
     "execution_count": 8,
     "metadata": {},
     "output_type": "execute_result"
    },
    {
     "data": {
      "image/png": "[encoded data removed]",
      "text/plain": [
       "<Figure size 576x432 with 1 Axes>"
      ]
     },
     "metadata": {
      "needs_background": "light"
     },
     "output_type": "display_data"
    }
   ],
   "source": [
    "plt.figure(figsize= (8,6))\n",
    "df_63.d_return.hist(bins=50, alpha=0.6, color='steelblue')\n",
    "plt.axvline(VaR_5, color='r', linewidth=1,label = 'VaR_5')\n",
    "plt.axvline(VaR_1, color='y', linewidth=1,label = 'VaR_1')\n",
    "plt.legend()\n",
    "plt.xlabel('return')\n",
    "plt.ylabel('count')"
   ]
  },
  {
   "cell_type": "code",
   "execution_count": 9,
   "metadata": {},
   "outputs": [
    {
     "name": "stdout",
     "output_type": "stream",
     "text": [
      "000063的1日VaR【1%置信度】: -0.043168080567507025\n",
      "000063的1日VaR【5%置信度】: -0.030311147624181477\n",
      "000063的5日VaR【1%置信度】: -0.09496718443089983\n",
      "000063的5日VaR【5%置信度】: -0.06621820838746745\n",
      "000063的10日VaR【1%置信度】: -0.13265119891985058\n",
      "000063的10日VaR【5%置信度】: -0.0919940070948893\n",
      "000063的20日VaR【1%置信度】: -0.18429176201207395\n",
      "000063的20日VaR【5%置信度】: -0.1267938099252092\n"
     ]
    }
   ],
   "source": [
    "#先用历史数据计算出每天的收益率均值μ和每天的波动率σ，\n",
    "#99%的VaR(daily)=μ_(1-day)-2.33*σ_(1-day)，\n",
    "#2.33是99%VaR单尾检验的Z值。如果求10天99%的VaR，\n",
    "#就要先计算这10天的收益率均值和10天的波动率。\n",
    "#99%的10-dayVaR = μ_(1-day)10-2.33σ_(1-day)*√10\n",
    "mean_return = df_63['d_return'].mean()\n",
    "std = df_63['d_return'].std()\n",
    "var1_1day = mean_return-2.33*std\n",
    "var5_1day = mean_return-1.645*std\n",
    "var1_5day = 5*mean_return-2.33*std*math.sqrt(5)\n",
    "var5_5day = 5*mean_return-1.645*std*math.sqrt(5)\n",
    "var1_10day = 10*mean_return-2.33*std*math.sqrt(10)\n",
    "var5_10day = 10*mean_return-1.645*std*math.sqrt(10)\n",
    "var1_20day = 20*mean_return-2.33*std*math.sqrt(20)\n",
    "var5_20day = 20*mean_return-1.645*std*math.sqrt(20)\n",
    "print(\"000063的1日VaR【1%置信度】:\",var1_1day)\n",
    "print(\"000063的1日VaR【5%置信度】:\",var5_1day)\n",
    "print(\"000063的5日VaR【1%置信度】:\",var1_5day)\n",
    "print(\"000063的5日VaR【5%置信度】:\",var5_5day)\n",
    "print(\"000063的10日VaR【1%置信度】:\",var1_10day)\n",
    "print(\"000063的10日VaR【5%置信度】:\",var5_10day)\n",
    "print(\"000063的20日VaR【1%置信度】:\",var1_20day)\n",
    "print(\"000063的20日VaR【5%置信度】:\",var5_20day)"
   ]
  },
  {
   "cell_type": "code",
   "execution_count": 10,
   "metadata": {},
   "outputs": [
    {
     "data": {
      "text/html": [
       "<div>\n",
       "<style scoped>\n",
       "    .dataframe tbody tr th:only-of-type {\n",
       "        vertical-align: middle;\n",
       "    }\n",
       "\n",
       "    .dataframe tbody tr th {\n",
       "        vertical-align: top;\n",
       "    }\n",
       "\n",
       "    .dataframe thead th {\n",
       "        text-align: right;\n",
       "    }\n",
       "</style>\n",
       "<table border=\"1\" class=\"dataframe\">\n",
       "  <thead>\n",
       "    <tr style=\"text-align: right;\">\n",
       "      <th></th>\n",
       "      <th>date</th>\n",
       "      <th>open</th>\n",
       "      <th>close</th>\n",
       "      <th>high</th>\n",
       "      <th>low</th>\n",
       "      <th>volume</th>\n",
       "      <th>d_return</th>\n",
       "    </tr>\n",
       "  </thead>\n",
       "  <tbody>\n",
       "    <tr>\n",
       "      <th>0</th>\n",
       "      <td>2020年7月20日</td>\n",
       "      <td>79.05</td>\n",
       "      <td>81.87</td>\n",
       "      <td>82.70</td>\n",
       "      <td>79.05</td>\n",
       "      <td>112.36M</td>\n",
       "      <td>NaN</td>\n",
       "    </tr>\n",
       "    <tr>\n",
       "      <th>1</th>\n",
       "      <td>2020年7月17日</td>\n",
       "      <td>79.00</td>\n",
       "      <td>78.02</td>\n",
       "      <td>79.39</td>\n",
       "      <td>77.31</td>\n",
       "      <td>87.50M</td>\n",
       "      <td>-0.047026</td>\n",
       "    </tr>\n",
       "    <tr>\n",
       "      <th>2</th>\n",
       "      <td>2020年7月16日</td>\n",
       "      <td>81.30</td>\n",
       "      <td>78.22</td>\n",
       "      <td>81.95</td>\n",
       "      <td>78.16</td>\n",
       "      <td>131.82M</td>\n",
       "      <td>0.002563</td>\n",
       "    </tr>\n",
       "    <tr>\n",
       "      <th>3</th>\n",
       "      <td>2020年7月15日</td>\n",
       "      <td>82.15</td>\n",
       "      <td>80.22</td>\n",
       "      <td>82.39</td>\n",
       "      <td>80.12</td>\n",
       "      <td>92.28M</td>\n",
       "      <td>0.025569</td>\n",
       "    </tr>\n",
       "    <tr>\n",
       "      <th>4</th>\n",
       "      <td>2020年7月14日</td>\n",
       "      <td>82.37</td>\n",
       "      <td>81.30</td>\n",
       "      <td>83.23</td>\n",
       "      <td>80.61</td>\n",
       "      <td>98.86M</td>\n",
       "      <td>0.013463</td>\n",
       "    </tr>\n",
       "  </tbody>\n",
       "</table>\n",
       "</div>"
      ],
      "text/plain": [
       "         date   open  close   high    low   volume  d_return\n",
       "0  2020年7月20日  79.05  81.87  82.70  79.05  112.36M       NaN\n",
       "1  2020年7月17日  79.00  78.02  79.39  77.31   87.50M -0.047026\n",
       "2  2020年7月16日  81.30  78.22  81.95  78.16  131.82M  0.002563\n",
       "3  2020年7月15日  82.15  80.22  82.39  80.12   92.28M  0.025569\n",
       "4  2020年7月14日  82.37  81.30  83.23  80.61   98.86M  0.013463"
      ]
     },
     "execution_count": 10,
     "metadata": {},
     "output_type": "execute_result"
    }
   ],
   "source": [
    "df_63.head()"
   ]
  },
  {
   "cell_type": "code",
   "execution_count": 11,
   "metadata": {},
   "outputs": [],
   "source": [
    "df_63_1= df_63.drop(columns=['date','open','high','low','volume','d_return'])#code"
   ]
  },
  {
   "cell_type": "code",
   "execution_count": 12,
   "metadata": {},
   "outputs": [
    {
     "data": {
      "text/html": [
       "<div>\n",
       "<style scoped>\n",
       "    .dataframe tbody tr th:only-of-type {\n",
       "        vertical-align: middle;\n",
       "    }\n",
       "\n",
       "    .dataframe tbody tr th {\n",
       "        vertical-align: top;\n",
       "    }\n",
       "\n",
       "    .dataframe thead th {\n",
       "        text-align: right;\n",
       "    }\n",
       "</style>\n",
       "<table border=\"1\" class=\"dataframe\">\n",
       "  <thead>\n",
       "    <tr style=\"text-align: right;\">\n",
       "      <th></th>\n",
       "      <th>close</th>\n",
       "    </tr>\n",
       "  </thead>\n",
       "  <tbody>\n",
       "    <tr>\n",
       "      <th>0</th>\n",
       "      <td>81.87</td>\n",
       "    </tr>\n",
       "    <tr>\n",
       "      <th>1</th>\n",
       "      <td>78.02</td>\n",
       "    </tr>\n",
       "    <tr>\n",
       "      <th>2</th>\n",
       "      <td>78.22</td>\n",
       "    </tr>\n",
       "    <tr>\n",
       "      <th>3</th>\n",
       "      <td>80.22</td>\n",
       "    </tr>\n",
       "    <tr>\n",
       "      <th>4</th>\n",
       "      <td>81.30</td>\n",
       "    </tr>\n",
       "  </tbody>\n",
       "</table>\n",
       "</div>"
      ],
      "text/plain": [
       "   close\n",
       "0  81.87\n",
       "1  78.02\n",
       "2  78.22\n",
       "3  80.22\n",
       "4  81.30"
      ]
     },
     "execution_count": 12,
     "metadata": {},
     "output_type": "execute_result"
    }
   ],
   "source": [
    "df_63_1.head()"
   ]
  },
  {
   "cell_type": "code",
   "execution_count": 13,
   "metadata": {},
   "outputs": [
    {
     "data": {
      "image/png": "[encoded data removed]",
      "text/plain": [
       "<Figure size 1080x432 with 1 Axes>"
      ]
     },
     "metadata": {
      "needs_background": "light"
     },
     "output_type": "display_data"
    }
   ],
   "source": [
    "df_63_1.plot(figsize=(15,6))\n",
    "plt.show()"
   ]
  },
  {
   "cell_type": "code",
   "execution_count": 14,
   "metadata": {},
   "outputs": [
    {
     "data": {
      "image/png": "[encoded data removed]",
      "text/plain": [
       "<Figure size 1080x432 with 1 Axes>"
      ]
     },
     "metadata": {
      "needs_background": "light"
     },
     "output_type": "display_data"
    }
   ],
   "source": [
    "\n",
    "plt.figure(figsize=(15,6))\n",
    "\n",
    "plt.plot(df_63_1)\n",
    "\n",
    "T = 244\n",
    "mean_return = df_63['d_return'].mean()\n",
    "sigma = df_63['d_return'].std()\n",
    "S0 = 19.56\n",
    "dt = 1\n",
    "N = round(T/dt)\n",
    "t = np.linspace(0,T,N) \n",
    "\n",
    "W = np.random.standard_normal(size=N)\n",
    "W = np.cumsum(W)*np.sqrt(dt)\n",
    "X = (mean_return-0.5*sigma**2)*t +sigma*W\n",
    "S = S0*np.exp(X)\n",
    "plt.plot(t,S,lw=2)\n",
    "\n",
    "plt.show()"
   ]
  },
  {
   "cell_type": "code",
   "execution_count": null,
   "metadata": {},
   "outputs": [],
   "source": []
  },
  {
   "cell_type": "code",
   "execution_count": null,
   "metadata": {},
   "outputs": [],
   "source": []
  },
  {
   "cell_type": "code",
   "execution_count": null,
   "metadata": {},
   "outputs": [],
   "source": []
  }
 ],
 "metadata": {
  "kernelspec": {
   "display_name": "Python 3",
   "language": "python",
   "name": "python3"
  },
  "language_info": {
   "codemirror_mode": {
    "name": "ipython",
    "version": 3
   },
   "file_extension": ".py",
   "mimetype": "text/x-python",
   "name": "python",
   "nbconvert_exporter": "python",
   "pygments_lexer": "ipython3",
   "version": "3.7.1"
  },
  "toc": {
   "base_numbering": 1,
   "nav_menu": {},
   "number_sections": true,
   "sideBar": true,
   "skip_h1_title": false,
   "title_cell": "Table of Contents",
   "title_sidebar": "Contents",
   "toc_cell": false,
   "toc_position": {},
   "toc_section_display": true,
   "toc_window_display": false
  }
 },
 "nbformat": 4,
 "nbformat_minor": 2
}
