{
 "cells": [
  {
   "cell_type": "markdown",
   "metadata": {},
   "source": [
    "# web of science 学科共现"
   ]
  },
  {
   "cell_type": "code",
   "execution_count": 2,
   "metadata": {},
   "outputs": [],
   "source": [
    "import os\n",
    "import pandas as pd\n",
    "import numpy as np\n",
    "import networkx as nx\n",
    "#import matplotlib.pyplot as plt\n",
    "os.chdir('D:/software/0install package/VOSviewer/WOS_co_occurrence0304')"
   ]
  },
  {
   "cell_type": "code",
   "execution_count": 4,
   "metadata": {},
   "outputs": [
    {
     "name": "stdout",
     "output_type": "stream",
     "text": [
      "254\n",
      "123\n"
     ]
    }
   ],
   "source": [
    "#data = pd.read_excel(\"D:/software/0install package/VOSviewer/web tab.xlsx\")\n",
    "# data = pd.read_table(\"help/a.txt\",sep=\"\t\",index_col=False,keep_default_na=True)keep_default_na=True会让他\n",
    "# df_wc = data[data.WC.fillna('').str.contains('; ')] \n",
    "data = pd.read_table(\"WOS tab0304_utf8.txt\",sep=\"\t\",index_col=False)\n",
    "df_wc = data[data.WC.str.contains('; ')] #筛选包含分隔符的数据，web of science是分号+空格,只有有分割符才代表是出现了两个及以上学科\n",
    "print(len(data))\n",
    "print(len(df_wc))#对比两个数字查看比例，大部分论文(接近50%)只有一个学科，所以学科共现不一定有意义"
   ]
  },
  {
   "cell_type": "code",
   "execution_count": 5,
   "metadata": {},
   "outputs": [
    {
     "name": "stdout",
     "output_type": "stream",
     "text": [
      "80\n"
     ]
    }
   ],
   "source": [
    "xueke_list = []\n",
    "for wc in df_wc.WC:\n",
    "    wc_list = wc.split(\"; \")\n",
    "    xueke_list.extend(wc_list)\n",
    "xueke_list_unique = list(set(xueke_list))\n",
    "print(len(xueke_list_unique))"
   ]
  },
  {
   "cell_type": "code",
   "execution_count": 6,
   "metadata": {},
   "outputs": [
    {
     "data": {
      "text/plain": [
       "['Mathematics, Interdisciplinary Applications',\n",
       " 'Geriatrics & Gerontology',\n",
       " 'Health Policy & Services',\n",
       " 'Substance Abuse',\n",
       " 'Mathematical & Computational Biology',\n",
       " 'Energy & Fuels',\n",
       " 'Computer Science, Theory & Methods',\n",
       " 'Mathematics, Applied',\n",
       " 'Otorhinolaryngology',\n",
       " 'Engineering, Multidisciplinary',\n",
       " 'Education, Scientific Disciplines',\n",
       " 'Imaging Science & Photographic Technology',\n",
       " 'Chemistry, Physical',\n",
       " 'Construction & Building Technology',\n",
       " 'Chemistry, Analytical',\n",
       " 'Agriculture, Multidisciplinary',\n",
       " 'Management',\n",
       " 'Computer Science, Interdisciplinary Applications',\n",
       " 'Computer Science, Cybernetics',\n",
       " 'Cell Biology',\n",
       " 'Pharmacology & Pharmacy',\n",
       " 'Education, Special',\n",
       " 'Peripheral Vascular Disease',\n",
       " 'Oceanography',\n",
       " 'Statistics & Probability',\n",
       " 'Geosciences, Multidisciplinary',\n",
       " 'Physics, Applied',\n",
       " 'Psychology, Multidisciplinary',\n",
       " 'Optics',\n",
       " 'Education & Educational Research',\n",
       " 'Computer Science, Software Engineering',\n",
       " 'Meteorology & Atmospheric Sciences',\n",
       " 'Physics, Mathematical',\n",
       " 'Nursing',\n",
       " 'Psychology',\n",
       " 'Psychiatry',\n",
       " 'Engineering, Industrial',\n",
       " 'Toxicology',\n",
       " 'Telecommunications',\n",
       " 'Social Sciences, Mathematical Methods',\n",
       " 'Biotechnology & Applied Microbiology',\n",
       " 'Medical Informatics',\n",
       " 'Sociology',\n",
       " 'Psychology, Educational',\n",
       " 'Electrochemistry',\n",
       " 'Business',\n",
       " 'Pediatrics',\n",
       " 'Operations Research & Management Science',\n",
       " 'Social Sciences, Interdisciplinary',\n",
       " 'Psychology, Clinical',\n",
       " 'Computer Science, Information Systems',\n",
       " 'Obstetrics & Gynecology',\n",
       " 'Instruments & Instrumentation',\n",
       " 'Primary Health Care',\n",
       " 'Psychology, Experimental',\n",
       " 'Biochemical Research Methods',\n",
       " 'Agricultural Engineering',\n",
       " 'Psychology, Developmental',\n",
       " 'Psychology, Mathematical',\n",
       " 'Neurosciences',\n",
       " 'Oncology',\n",
       " 'Robotics',\n",
       " 'Rehabilitation',\n",
       " 'Gerontology',\n",
       " 'Computer Science, Artificial Intelligence',\n",
       " 'Public, Environmental & Occupational Health',\n",
       " 'Automation & Control Systems',\n",
       " 'Medicine, General & Internal',\n",
       " 'Water Resources',\n",
       " 'Green & Sustainable Science & Technology',\n",
       " 'Information Science & Library Science',\n",
       " 'Linguistics',\n",
       " 'Engineering, Ocean',\n",
       " 'Health Care Sciences & Services',\n",
       " 'Communication',\n",
       " 'Materials Science, Multidisciplinary',\n",
       " 'Engineering, Electrical & Electronic',\n",
       " 'Biophysics',\n",
       " 'Language & Linguistics',\n",
       " 'Surgery']"
      ]
     },
     "execution_count": 6,
     "metadata": {},
     "output_type": "execute_result"
    }
   ],
   "source": [
    "xueke_list_unique#web of science上边导出的学科包含二级学科，如果想用一级学科的话需要替换学科名，把逗号后边的二级删掉"
   ]
  },
  {
   "cell_type": "code",
   "execution_count": 9,
   "metadata": {},
   "outputs": [],
   "source": [
    "xueke_frame = pd.DataFrame(np.zeros([len(xueke_list_unique),len(xueke_list_unique)]),columns=xueke_list_unique,index=xueke_list_unique)\n",
    "for wc in df_wc.WC:\n",
    "    wc_list = wc.split('; ')\n",
    "    for i in range(len(wc_list)-1):\n",
    "        #xueke_frame.loc[wc_list[i]][wc_list[i+1]]=xueke_frame.loc[wc_list[i]][wc_list[i+1]]+1\n",
    "        for j in range(i+1,len(wc_list)-1):\n",
    "            xueke_frame.loc[wc_list[i]][wc_list[j]]=xueke_frame.loc[wc_list[i]][wc_list[j]]+1\n",
    "\n",
    "for k in range(len(xueke_frame)):#对角线都为0\n",
    "    xueke_frame.iloc[k,k]=0"
   ]
  },
  {
   "cell_type": "code",
   "execution_count": 10,
   "metadata": {},
   "outputs": [],
   "source": [
    "g = nx.Graph()\n",
    "for i in range(len(xueke_list_unique)-1):\n",
    "    xueke = xueke_list_unique[i]\n",
    "    for j in range(i+1,len(xueke_list_unique)):\n",
    "        w=0\n",
    "        xueke2 = xueke_list_unique[j]\n",
    "        w = xueke_frame.loc[xueke][xueke2]+xueke_frame.loc[xueke2][xueke]\n",
    "        g.add_edge(xueke,xueke2,weight=w)\n",
    "nx.write_pajek(g,\"D:/software/0install package/VOSviewer/web tab.net\")\n"
   ]
  },
  {
   "cell_type": "code",
   "execution_count": null,
   "metadata": {},
   "outputs": [],
   "source": [
    "# import matplotlib.pyplot as plt\n",
    "# nx.draw(g)\n",
    "# plt.show()\n",
    "#nx.write_pajek(g,\"D:/software/0install package/VOSviewer/web tab.net\")\n",
    "#将net文件导入vosviewer"
   ]
  },
  {
   "cell_type": "markdown",
   "metadata": {},
   "source": [
    "# 中国知网-共现"
   ]
  },
  {
   "cell_type": "code",
   "execution_count": 1,
   "metadata": {},
   "outputs": [],
   "source": [
    "import os\n",
    "import pandas as pd\n",
    "import numpy as np\n",
    "import networkx as nx\n",
    "#import matplotlib.pyplot as plt\n",
    "os.chdir('D:/work/网络课程开发')"
   ]
  },
  {
   "cell_type": "code",
   "execution_count": 2,
   "metadata": {},
   "outputs": [
    {
     "data": {
      "text/plain": [
       "Index(['SrcDatabase-来源库', 'Title-题名', 'Author-作者', 'Organ-单位', 'Source-文献来源',\n",
       "       'Keyword-关键词', 'Year-年'],\n",
       "      dtype='object')"
      ]
     },
     "execution_count": 2,
     "metadata": {},
     "output_type": "execute_result"
    }
   ],
   "source": [
    "data = pd.read_excel(\"CNKI.xlsx\")\n",
    "data.columns"
   ]
  },
  {
   "cell_type": "code",
   "execution_count": 3,
   "metadata": {},
   "outputs": [],
   "source": [
    "data.columns = (['SrcDatabase', 'Title', 'Author', 'Organ', 'Source','Keyword','Year'])"
   ]
  },
  {
   "cell_type": "code",
   "execution_count": 8,
   "metadata": {},
   "outputs": [
    {
     "name": "stdout",
     "output_type": "stream",
     "text": [
      "1334\n"
     ]
    }
   ],
   "source": [
    "organ_list = []\n",
    "for organ in data.Keyword:\n",
    "    organlist = organ.strip(';').split(\";\")#作者和机构\n",
    "    #organlist = organ.split(\";;\")#关键词\n",
    "    organ_list.extend(organlist)\n",
    "organ_list_unique = list(set(organ_list))\n",
    "print(len(organ_list_unique))"
   ]
  },
  {
   "cell_type": "code",
   "execution_count": 9,
   "metadata": {},
   "outputs": [],
   "source": [
    "organ_frame = pd.DataFrame(np.zeros([len(organ_list_unique),len(organ_list_unique)]),columns=organ_list_unique,index=organ_list_unique)\n",
    "for organ in data.Keyword:\n",
    "    organlist = organ.strip(';').split(\";\")#作者和机构\n",
    "    #organlist = organ.split(\";;\")#关键词\n",
    "    if len(organlist)>1:\n",
    "        for i in range(len(organlist)-1):\n",
    "            for j in range(i+1,len(organlist)-1):\n",
    "                organ_frame.loc[organlist[i]][organlist[j]]=organ_frame.loc[organlist[i]][organlist[j]]+1\n",
    "\n",
    "for k in range(len(organ_frame)):#对角线都为0\n",
    "    organ_frame.iloc[k,k]=0"
   ]
  },
  {
   "cell_type": "code",
   "execution_count": 10,
   "metadata": {},
   "outputs": [],
   "source": [
    "g = nx.Graph()\n",
    "for i in range(len(organ_list_unique)-1):\n",
    "    organ = organ_list_unique[i]\n",
    "    for j in range(i+1,len(organ_list_unique)):\n",
    "        w=0\n",
    "        organ2 = organ_list_unique[j]\n",
    "        w = organ_frame.loc[organ][organ2]+organ_frame.loc[organ2][organ]\n",
    "        if w>0:\n",
    "            g.add_edge(organ,organ2,weight=w)"
   ]
  },
  {
   "cell_type": "code",
   "execution_count": 11,
   "metadata": {},
   "outputs": [],
   "source": [
    "nx.write_pajek(g,\"cnki_keyword.net\")\n",
    "#将net文件导入vosviewer"
   ]
  },
  {
   "cell_type": "code",
   "execution_count": null,
   "metadata": {},
   "outputs": [],
   "source": []
  }
 ],
 "metadata": {
  "kernelspec": {
   "display_name": "Python 3",
   "language": "python",
   "name": "python3"
  },
  "language_info": {
   "codemirror_mode": {
    "name": "ipython",
    "version": 3
   },
   "file_extension": ".py",
   "mimetype": "text/x-python",
   "name": "python",
   "nbconvert_exporter": "python",
   "pygments_lexer": "ipython3",
   "version": "3.7.1"
  },
  "toc": {
   "base_numbering": 1,
   "nav_menu": {},
   "number_sections": true,
   "sideBar": true,
   "skip_h1_title": false,
   "title_cell": "Table of Contents",
   "title_sidebar": "Contents",
   "toc_cell": false,
   "toc_position": {
    "height": "calc(100% - 180px)",
    "left": "10px",
    "top": "150px",
    "width": "229.697px"
   },
   "toc_section_display": true,
   "toc_window_display": true
  }
 },
 "nbformat": 4,
 "nbformat_minor": 2
}
