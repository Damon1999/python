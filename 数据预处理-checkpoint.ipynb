{
 "cells": [
  {
   "cell_type": "code",
   "execution_count": 1,
   "metadata": {
    "collapsed": true
   },
   "outputs": [],
   "source": [
    "import pandas as pd\n",
    "import numpy as np\n",
    "import matplotlib.pyplot as plt\n",
    "%matplotlib inline\n",
    "from functools import reduce\n",
    "import math\n",
    "from sklearn import linear_model\n",
    "from sklearn.preprocessing import LabelEncoder\n",
    "\n",
    "import seaborn as sns\n",
    "import time"
   ]
  },
  {
   "cell_type": "markdown",
   "metadata": {},
   "source": [
    "### 主函数处理数据和导出"
   ]
  },
  {
   "cell_type": "markdown",
   "metadata": {},
   "source": [
    "#### 函数定义"
   ]
  },
  {
   "cell_type": "code",
   "execution_count": 2,
   "metadata": {},
   "outputs": [],
   "source": [
    "def data_process(df):\n",
    "    df = df.sort_values(['uid','p_open_time']).reset_index(drop=True)\n",
    "    df.p_open_time = pd.to_datetime(df.p_open_time)\n",
    "    df.p_close_time = pd.to_datetime(df.p_close_time)\n",
    "    for col in ['p_stay_time','url_type','course_id','p_title','pre_url']:\n",
    "        if col in df.columns:\n",
    "            df.drop([col], axis=1, inplace=True)\n",
    "    return df\n",
    "\n",
    "\n",
    "# 判断学生访问url前后的时间间隔，来划分会话\n",
    "def add_sess_id(df, interval=60*30):\n",
    "    df = data_process(df)\n",
    "    sess_id = 0\n",
    "    df['sess_id'] = 0\n",
    "    l1 = df.p_open_time - df.p_close_time.shift(1)\n",
    "    l2 = df.p_open_time - df.p_open_time.shift(1)\n",
    "    for i in range(len(l1)):\n",
    "        if (l1.iloc[i].seconds > interval) & (l2.iloc[i].seconds > interval):\n",
    "#         if (l1.iloc[i].seconds > interval): # 确保关闭网页后在打开新页面的时间，间隔少于阈值\n",
    "#         if (l2.iloc[i].seconds > interval): # 确保两个页面打开的时间，间隔少于阈值\n",
    "            sess_id += 1\n",
    "            df['sess_id'].iloc[i] = sess_id\n",
    "        else:\n",
    "            df['sess_id'].iloc[i] = sess_id\n",
    "    return df\n",
    "\n",
    "def add_sc_link(df):\n",
    "    min_ot = df.p_open_time.min()\n",
    "    max_ct = df.p_close_time.max()\n",
    "    first_row = df.iloc[0,:]\n",
    "    last_row = df.iloc[-1,:]\n",
    "    sess_id = first_row.sess_id\n",
    "    row1 = pd.DataFrame([[first_row.uid,min_ot,min_ot,'source','source',sess_id]], columns=df.columns.values)\n",
    "    row2 = pd.DataFrame([[first_row.uid,max_ct,max_ct,'sink','sink',sess_id]], columns=df.columns.values)\n",
    "    result = row1.append(df, ignore_index=True)\n",
    "    return result.append(row2, ignore_index=True)\n",
    "\n",
    "def get_labelencoder(df):\n",
    "    le = LabelEncoder()\n",
    "    unique_url = pd.Series(df.url).drop_duplicates()\n",
    "    le.fit(unique_url)\n",
    "    return le\n",
    "\n",
    "def url_transform(df, le):\n",
    "    transformed_df = df.copy()\n",
    "    transformed_df.url = le.transform(transformed_df.url)\n",
    "    return transformed_df\n",
    "\n",
    "def get_sc_dict(sc_df, le):\n",
    "    d = dict()\n",
    "    source = pd.Series(sc_df.url.iloc[0])\n",
    "    source_id = le.transform(pd.Series(sc_df.url.iloc[0]))[0]\n",
    "    sink = pd.Series(sc_df.url.iloc[-1])\n",
    "    sink_id = le.transform(pd.Series(sc_df.url.iloc[-1]))[0]\n",
    "    d[source[0]] = source_id\n",
    "    d[sink[0]] = sink_id\n",
    "    return d\n",
    "\n",
    "def get_dict(transformed_df, le):\n",
    "    url = transformed_df.url.values\n",
    "    tmpdf = pd.concat([\n",
    "            pd.Series(url), pd.Series(le.inverse_transform(url))\n",
    "        ], axis=1).drop_duplicates()\n",
    "    d = tmpdf.set_index(0).to_dict(orient='dict')[1]        \n",
    "    return d\n",
    "\n",
    "def res_output(res, filename_prefix):\n",
    "    transformed_df = res[0]\n",
    "    le = res[3]\n",
    "    transformed_df.to_csv(filename_prefix+'_transformed_df.csv', index=False)\n",
    "    joblib.dump(le, filename_prefix+'_labelencoder')\n",
    "    \n",
    "    \n",
    "def main_function(df):\n",
    "    tic = time.time()\n",
    "    sess_df = df.groupby('uid',group_keys=False).apply(add_sess_id)\n",
    "    print('Get sess_df. Time used: {t} min'.format(t=(time.time()-tic)/60))\n",
    "    \n",
    "    tic = time.time()\n",
    "    sc_df = sess_df.groupby(by=['uid','sess_id'],group_keys=False).apply(add_sc_link)\n",
    "    print('Get sc_df. Time used: {t} min'.format(t=(time.time()-tic)/60))\n",
    "    \n",
    "    tic = time.time()\n",
    "    le = get_labelencoder(sc_df)\n",
    "    transformed_df = url_transform(sc_df, le)\n",
    "    print('Transformation finished. Time used: {t} min'.format(t=(time.time()-tic)/60))\n",
    "    \n",
    "    return transformed_df, sc_df, sess_df, le"
   ]
  },
  {
   "cell_type": "markdown",
   "metadata": {},
   "source": [
    "#### 数据导入"
   ]
  },
  {
   "cell_type": "code",
   "execution_count": 3,
   "metadata": {
    "collapsed": true
   },
   "outputs": [],
   "source": [
    "all_data = pd.read_csv('../psychology_2015_t2/data/psy2015t2_refined.csv')"
   ]
  },
  {
   "cell_type": "code",
   "execution_count": 10,
   "metadata": {},
   "outputs": [
    {
     "data": {
      "text/plain": [
       "courseware        72895\n",
       "info              21659\n",
       "about              9101\n",
       "progress           5900\n",
       "discussion         3373\n",
       "outline            2154\n",
       "exams               552\n",
       "commercial          333\n",
       "verify_student      309\n",
       "accounts             42\n",
       "instructor           35\n",
       "certificate           3\n",
       "Name: navigator, dtype: int64"
      ]
     },
     "execution_count": 10,
     "metadata": {},
     "output_type": "execute_result"
    }
   ],
   "source": [
    "all_data[all_data.p_stay_time>0].navigator.value_counts()"
   ]
  },
  {
   "cell_type": "code",
   "execution_count": 4,
   "metadata": {},
   "outputs": [
    {
     "data": {
      "text/plain": [
       "(125190, 8)"
      ]
     },
     "execution_count": 4,
     "metadata": {},
     "output_type": "execute_result"
    },
    {
     "data": {
      "text/plain": [
       "(8834, 8)"
      ]
     },
     "execution_count": 4,
     "metadata": {},
     "output_type": "execute_result"
    },
    {
     "data": {
      "text/plain": [
       "(116356, 8)"
      ]
     },
     "execution_count": 4,
     "metadata": {},
     "output_type": "execute_result"
    }
   ],
   "source": [
    "all_data.shape\n",
    "all_data[all_data.p_stay_time<=0].shape\n",
    "all_data[all_data.p_stay_time>0].shape"
   ]
  },
  {
   "cell_type": "markdown",
   "metadata": {},
   "source": [
    "##### 仅保留学生课件浏览记录"
   ]
  },
  {
   "cell_type": "code",
   "execution_count": 10,
   "metadata": {},
   "outputs": [],
   "source": [
    "data_excellent = pd.read_csv('../成绩统计/grade_grouped/group_4_human/data_excellent.csv')\n",
    "data_good = pd.read_csv('../成绩统计/grade_grouped/group_4_human/data_good.csv')\n",
    "data_unpass = pd.read_csv('../成绩统计/grade_grouped/group_4_human/data_unpass.csv')\n",
    "data_absent = pd.read_csv('../成绩统计/grade_grouped/group_4_human/data_absent.csv')"
   ]
  },
  {
   "cell_type": "code",
   "execution_count": 32,
   "metadata": {},
   "outputs": [
    {
     "data": {
      "text/plain": [
       "116356"
      ]
     },
     "execution_count": 32,
     "metadata": {},
     "output_type": "execute_result"
    }
   ],
   "source": [
    "data_excellent.shape[0]+data_good.shape[0]+data_unpass.shape[0]+data_absent.shape[0]"
   ]
  },
  {
   "cell_type": "code",
   "execution_count": 35,
   "metadata": {},
   "outputs": [
    {
     "data": {
      "text/plain": [
       "229"
      ]
     },
     "execution_count": 35,
     "metadata": {},
     "output_type": "execute_result"
    }
   ],
   "source": [
    "len(pd.concat([data_excellent, data_good, data_unpass, data_absent], axis=0).url.unique())"
   ]
  },
  {
   "cell_type": "code",
   "execution_count": 11,
   "metadata": {},
   "outputs": [
    {
     "data": {
      "text/plain": [
       "(8618, 8)"
      ]
     },
     "execution_count": 11,
     "metadata": {},
     "output_type": "execute_result"
    },
    {
     "data": {
      "text/plain": [
       "(3619, 8)"
      ]
     },
     "execution_count": 11,
     "metadata": {},
     "output_type": "execute_result"
    },
    {
     "data": {
      "text/plain": [
       "(18778, 8)"
      ]
     },
     "execution_count": 11,
     "metadata": {},
     "output_type": "execute_result"
    },
    {
     "data": {
      "text/plain": [
       "(41880, 8)"
      ]
     },
     "execution_count": 11,
     "metadata": {},
     "output_type": "execute_result"
    }
   ],
   "source": [
    "data_excellent[data_excellent.navigator=='courseware'].shape\n",
    "data_good[data_good.navigator=='courseware'].shape\n",
    "data_unpass[data_unpass.navigator=='courseware'].shape\n",
    "data_absent[data_absent.navigator=='courseware'].shape"
   ]
  },
  {
   "cell_type": "code",
   "execution_count": 17,
   "metadata": {},
   "outputs": [
    {
     "data": {
      "text/plain": [
       "84.49019607843137"
      ]
     },
     "execution_count": 17,
     "metadata": {},
     "output_type": "execute_result"
    },
    {
     "data": {
      "text/plain": [
       "88.26829268292683"
      ]
     },
     "execution_count": 17,
     "metadata": {},
     "output_type": "execute_result"
    },
    {
     "data": {
      "text/plain": [
       "32.32013769363167"
      ]
     },
     "execution_count": 17,
     "metadata": {},
     "output_type": "execute_result"
    },
    {
     "data": {
      "text/plain": [
       "9.066897596882441"
      ]
     },
     "execution_count": 17,
     "metadata": {},
     "output_type": "execute_result"
    }
   ],
   "source": [
    "data_excellent[data_excellent.navigator=='courseware'].groupby('uid').url.count().mean()\n",
    "data_good[data_good.navigator=='courseware'].groupby('uid').url.count().mean()\n",
    "data_unpass[data_unpass.navigator=='courseware'].groupby('uid').url.count().mean()\n",
    "data_absent[data_absent.navigator=='courseware'].groupby('uid').url.count().mean()"
   ]
  },
  {
   "cell_type": "code",
   "execution_count": 19,
   "metadata": {},
   "outputs": [
    {
     "name": "stdout",
     "output_type": "stream",
     "text": [
      "Get sess_df. Time used: 0.042150266965230304 min\n",
      "Get sc_df. Time used: 0.17346520026524861 min\n",
      "Transformation finished. Time used: 0.00029503504435221355 min\n",
      "Get sess_df. Time used: 0.017120552062988282 min\n",
      "Get sc_df. Time used: 0.06458064715067545 min\n",
      "Transformation finished. Time used: 0.0001145164171854655 min\n",
      "Get sess_df. Time used: 0.1259248971939087 min\n",
      "Get sc_df. Time used: 0.27635635137557985 min\n",
      "Transformation finished. Time used: 0.00045648415883382164 min\n",
      "Get sess_df. Time used: 0.6678029497464498 min\n",
      "Get sc_df. Time used: 0.8025261163711548 min\n",
      "Transformation finished. Time used: 0.0011474013328552247 min\n"
     ]
    }
   ],
   "source": [
    "res_cw_excellent = main_function(data_excellent[data_excellent.navigator=='courseware'])\n",
    "res_cw_good = main_function(data_good[data_good.navigator=='courseware'])\n",
    "res_cw_unpass = main_function(data_unpass[data_unpass.navigator=='courseware'])\n",
    "res_cw_absent = main_function(data_absent[data_absent.navigator=='courseware'])"
   ]
  },
  {
   "cell_type": "markdown",
   "metadata": {},
   "source": [
    "#### 以session为单位，添加source和sink，返回transformed_df, sc_df and labelencoder"
   ]
  },
  {
   "cell_type": "code",
   "execution_count": 4,
   "metadata": {},
   "outputs": [
    {
     "name": "stdout",
     "output_type": "stream",
     "text": [
      "Get sess_df. Time used: 0.06938598155975342 min\n",
      "Get sc_df. Time used: 0.23597910006841025 min\n",
      "Transformation finished. Time used: 0.00045426686604817707 min\n"
     ]
    }
   ],
   "source": [
    "res_excellent = main_function(pd.read_csv('../成绩统计/grade_grouped/group_4_human/data_excellent.csv'))"
   ]
  },
  {
   "cell_type": "code",
   "execution_count": 28,
   "metadata": {
    "scrolled": false
   },
   "outputs": [
    {
     "name": "stdout",
     "output_type": "stream",
     "text": [
      "Get sess_df. Time used: 0.027334566911061606 min\n",
      "Get sc_df. Time used: 0.08162838617960612 min\n",
      "Transformation finished. Time used: 0.00016953547795613608 min\n",
      "Get sess_df. Time used: 0.16768265167872112 min\n",
      "Get sc_df. Time used: 0.32285566329956056 min\n",
      "Transformation finished. Time used: 0.0007415016492207845 min\n",
      "Get sess_df. Time used: 1.050191601117452 min\n",
      "Get sc_df. Time used: 1.0396808505058288 min\n",
      "Transformation finished. Time used: 0.0017043193181355794 min\n"
     ]
    }
   ],
   "source": [
    "res_good = main_function(pd.read_csv('../成绩统计/grade_grouped/group_4_human/data_good.csv'))\n",
    "res_unpass = main_function(pd.read_csv('../成绩统计/grade_grouped/group_4_human/data_unpass.csv'))\n",
    "res_absent = main_function(pd.read_csv('../成绩统计/grade_grouped/group_4_human/data_absent.csv'))"
   ]
  },
  {
   "cell_type": "markdown",
   "metadata": {},
   "source": [
    "#### 不同分组学生会话序列长度分布"
   ]
  },
  {
   "cell_type": "code",
   "execution_count": 30,
   "metadata": {
    "collapsed": true
   },
   "outputs": [],
   "source": [
    "seq_length_excellent = res_excellent[1].groupby(['uid','sess_id']).apply(len).groupby(level='uid').mean()\n",
    "seq_length_good = res_good[1].groupby(['uid','sess_id']).apply(len).groupby(level='uid').mean()\n",
    "seq_length_unpass = res_unpass[1].groupby(['uid','sess_id']).apply(len).groupby(level='uid').mean()\n",
    "seq_length_absent = res_absent[1].groupby(['uid','sess_id']).apply(len).groupby(level='uid').mean()"
   ]
  },
  {
   "cell_type": "code",
   "execution_count": 34,
   "metadata": {},
   "outputs": [
    {
     "data": {
      "text/plain": [
       "<matplotlib.axes._subplots.AxesSubplot at 0x11dd13630>"
      ]
     },
     "execution_count": 34,
     "metadata": {},
     "output_type": "execute_result"
    },
    {
     "data": {
      "text/plain": [
       "<matplotlib.axes._subplots.AxesSubplot at 0x11dd13630>"
      ]
     },
     "execution_count": 34,
     "metadata": {},
     "output_type": "execute_result"
    },
    {
     "data": {
      "text/plain": [
       "<matplotlib.axes._subplots.AxesSubplot at 0x11dd13630>"
      ]
     },
     "execution_count": 34,
     "metadata": {},
     "output_type": "execute_result"
    },
    {
     "data": {
      "text/plain": [
       "<matplotlib.axes._subplots.AxesSubplot at 0x11dd13630>"
      ]
     },
     "execution_count": 34,
     "metadata": {},
     "output_type": "execute_result"
    },
    {
     "data": {
      "text/plain": [
       "<matplotlib.legend.Legend at 0x11f879c18>"
      ]
     },
     "execution_count": 34,
     "metadata": {},
     "output_type": "execute_result"
    },
    {
     "data": {
      "image/png": "[encoded data removed]",
      "text/plain": [
       "<matplotlib.figure.Figure at 0x120f430b8>"
      ]
     },
     "metadata": {},
     "output_type": "display_data"
    }
   ],
   "source": [
    "sns.distplot(seq_length_excellent, label='excellent')\n",
    "sns.distplot(seq_length_good, label='good')\n",
    "sns.distplot(seq_length_unpass, label='unpass')\n",
    "sns.distplot(seq_length_absent, label='absent')\n",
    "plt.legend(loc='best')"
   ]
  },
  {
   "cell_type": "markdown",
   "metadata": {},
   "source": [
    "#### 数据导出"
   ]
  },
  {
   "cell_type": "code",
   "execution_count": 5,
   "metadata": {
    "collapsed": true
   },
   "outputs": [],
   "source": [
    "from sklearn.externals import joblib\n",
    "\n",
    "res_output(res_excellent, 'excellent')\n",
    "res_output(res_good, 'good')\n",
    "res_output(res_unpass, 'unpass')\n",
    "res_output(res_absent, 'absent')"
   ]
  },
  {
   "cell_type": "code",
   "execution_count": 20,
   "metadata": {
    "collapsed": true
   },
   "outputs": [],
   "source": [
    "res_output(res_cw_excellent, 'cw_excellent')\n",
    "res_output(res_cw_good, 'cw_good')\n",
    "res_output(res_cw_unpass, 'cw_unpass')\n",
    "res_output(res_cw_absent, 'cw_absent')"
   ]
  },
  {
   "cell_type": "markdown",
   "metadata": {},
   "source": [
    "#### 查看source和sink节点的id"
   ]
  },
  {
   "cell_type": "code",
   "execution_count": 74,
   "metadata": {},
   "outputs": [
    {
     "data": {
      "text/plain": [
       "{'sink': 125, 'source': 126}"
      ]
     },
     "execution_count": 74,
     "metadata": {},
     "output_type": "execute_result"
    }
   ],
   "source": [
    "get_sc_dict(res_excellent[1], res_excellent[3])"
   ]
  },
  {
   "cell_type": "code",
   "execution_count": 88,
   "metadata": {},
   "outputs": [
    {
     "data": {
      "text/plain": [
       "{0: 'accounts/login?next=http://www.xuetangx.com/courses/course-v1:TsinghuaX+30700313X_2015_2+2015_T2/courseware/37042e81e69a48289c3497e7b4e57795/9fb921f41da342ac970ebaffd7a9770c/',\n",
       " 1: 'accounts/login?next=http://www.xuetangx.com/courses/course-v1:TsinghuaX+30700313X_2015_2+2015_T2/courseware/6dbece27c59b41e5bd4c5a77f50163bc/6d6bbd81dce1477f94e57cc0bbcd8a74/',\n",
       " 2: 'accounts/login?next=http://www.xuetangx.com/courses/course-v1:TsinghuaX+30700313X_2015_2+2015_T2/courseware/beaced6e0d184539959b00514f8de6d8/16c392a0e77344c2b8d7d9505774aa0e/',\n",
       " 3: 'accounts/login?next=http://www.xuetangx.com/courses/course-v1:TsinghuaX+30700313X_2015_2+2015_T2/courseware/fed23d2680bb4cd284471784e8d11913/50ead94157094369ae1efdd85729ba8b/',\n",
       " 4: 'commercial/course-v1:TsinghuaX+30700313X_2015_2+2015_T2/certificate/apply',\n",
       " 5: 'commercial/course-v1:TsinghuaX+30700313X_2015_2+2015_T2/certificate/grant/process',\n",
       " 6: 'courses/course-v1:TsinghuaX+30700313X_2015_2+2015_T2/28458ebc37da4aac88457f28a3e5ee5c/',\n",
       " 7: 'courses/course-v1:TsinghuaX+30700313X_2015_2+2015_T2/about',\n",
       " 8: 'courses/course-v1:TsinghuaX+30700313X_2015_2+2015_T2/courseware/022d58670d4f4ce2859418570279f492/',\n",
       " 9: 'courses/course-v1:TsinghuaX+30700313X_2015_2+2015_T2/courseware/022d58670d4f4ce2859418570279f492/0900a9d5d9aa4b049047a8f4af3b1937/',\n",
       " 10: 'courses/course-v1:TsinghuaX+30700313X_2015_2+2015_T2/courseware/022d58670d4f4ce2859418570279f492/528a450edf7f4851b497a22967a6737e/',\n",
       " 11: 'courses/course-v1:TsinghuaX+30700313X_2015_2+2015_T2/courseware/022d58670d4f4ce2859418570279f492/885e9396feca4fbcb1655de79bf20b09/',\n",
       " 12: 'courses/course-v1:TsinghuaX+30700313X_2015_2+2015_T2/courseware/022d58670d4f4ce2859418570279f492/aa8983c8ec364c8d9d779fa1b1a5520b/',\n",
       " 13: 'courses/course-v1:TsinghuaX+30700313X_2015_2+2015_T2/courseware/022d58670d4f4ce2859418570279f492/b8626850ce4743d7a254fb249eb41966/',\n",
       " 14: 'courses/course-v1:TsinghuaX+30700313X_2015_2+2015_T2/courseware/193a9f39299c41a193000ff7fd200387/',\n",
       " 15: 'courses/course-v1:TsinghuaX+30700313X_2015_2+2015_T2/courseware/193a9f39299c41a193000ff7fd200387/111efb8761dc477297e27e94eb88961b/',\n",
       " 16: 'courses/course-v1:TsinghuaX+30700313X_2015_2+2015_T2/courseware/193a9f39299c41a193000ff7fd200387/3539d41d4a6548789fbbe9c3ef58672b/',\n",
       " 17: 'courses/course-v1:TsinghuaX+30700313X_2015_2+2015_T2/courseware/193a9f39299c41a193000ff7fd200387/3cff74d202cf4f9188f6916447b9e12f/',\n",
       " 18: 'courses/course-v1:TsinghuaX+30700313X_2015_2+2015_T2/courseware/193a9f39299c41a193000ff7fd200387/6306909cb6944bdabb1d2cc4ede08bc5/',\n",
       " 19: 'courses/course-v1:TsinghuaX+30700313X_2015_2+2015_T2/courseware/193a9f39299c41a193000ff7fd200387/9a53ab5435d34ec180a62bec99f68c3d/',\n",
       " 20: 'courses/course-v1:TsinghuaX+30700313X_2015_2+2015_T2/courseware/193a9f39299c41a193000ff7fd200387/f739fc07a49142b99a972ec602ecdc02/',\n",
       " 21: 'courses/course-v1:TsinghuaX+30700313X_2015_2+2015_T2/courseware/193a9f39299c41a193000ff7fd200387/f73ae24a1dcc4306b9a61423d9fc9ba7/',\n",
       " 22: 'courses/course-v1:TsinghuaX+30700313X_2015_2+2015_T2/courseware/193a9f39299c41a193000ff7fd200387/f9275076929240359b3a1b4b2e5c5d37/',\n",
       " 23: 'courses/course-v1:TsinghuaX+30700313X_2015_2+2015_T2/courseware/2687ee84f9bd44dd8d931c6145489c17/',\n",
       " 24: 'courses/course-v1:TsinghuaX+30700313X_2015_2+2015_T2/courseware/2687ee84f9bd44dd8d931c6145489c17/b834b0bce4764254a3af373cf7a9f27f/',\n",
       " 25: 'courses/course-v1:TsinghuaX+30700313X_2015_2+2015_T2/courseware/2687ee84f9bd44dd8d931c6145489c17/c8b37703320e4ab08c34efc0bef496b8/',\n",
       " 26: 'courses/course-v1:TsinghuaX+30700313X_2015_2+2015_T2/courseware/37042e81e69a48289c3497e7b4e57795/',\n",
       " 27: 'courses/course-v1:TsinghuaX+30700313X_2015_2+2015_T2/courseware/37042e81e69a48289c3497e7b4e57795/1dd115b02bad4f269040925ce5604c9d/',\n",
       " 28: 'courses/course-v1:TsinghuaX+30700313X_2015_2+2015_T2/courseware/37042e81e69a48289c3497e7b4e57795/2025f6e006e743598a9dfdc3045f812e/',\n",
       " 29: 'courses/course-v1:TsinghuaX+30700313X_2015_2+2015_T2/courseware/37042e81e69a48289c3497e7b4e57795/2f1487887b0c40a2a11bb6b461e174ad/',\n",
       " 30: 'courses/course-v1:TsinghuaX+30700313X_2015_2+2015_T2/courseware/37042e81e69a48289c3497e7b4e57795/42c329ad8058482bb7a76142351b1b5f/',\n",
       " 31: 'courses/course-v1:TsinghuaX+30700313X_2015_2+2015_T2/courseware/37042e81e69a48289c3497e7b4e57795/7f9f9fad11294d479b3bdd89fb24ff11/',\n",
       " 32: 'courses/course-v1:TsinghuaX+30700313X_2015_2+2015_T2/courseware/37042e81e69a48289c3497e7b4e57795/9fb921f41da342ac970ebaffd7a9770c/',\n",
       " 33: 'courses/course-v1:TsinghuaX+30700313X_2015_2+2015_T2/courseware/37042e81e69a48289c3497e7b4e57795/e2f757f44ef04534a49eb86857b44f8c/',\n",
       " 34: 'courses/course-v1:TsinghuaX+30700313X_2015_2+2015_T2/courseware/3fcae153a67249ffb1411c15902fdc8c/',\n",
       " 35: 'courses/course-v1:TsinghuaX+30700313X_2015_2+2015_T2/courseware/3fcae153a67249ffb1411c15902fdc8c/22d8dea1073b4b97b47d0ca3bb718659/',\n",
       " 36: 'courses/course-v1:TsinghuaX+30700313X_2015_2+2015_T2/courseware/3fcae153a67249ffb1411c15902fdc8c/507f85bf06194ae6ac04ee39c0e36133/',\n",
       " 37: 'courses/course-v1:TsinghuaX+30700313X_2015_2+2015_T2/courseware/3fcae153a67249ffb1411c15902fdc8c/6354f772be7e4a3e9a90717c728a14d8/',\n",
       " 38: 'courses/course-v1:TsinghuaX+30700313X_2015_2+2015_T2/courseware/3fcae153a67249ffb1411c15902fdc8c/8522c37db9e843f1a7ff33a6652e0c63/',\n",
       " 39: 'courses/course-v1:TsinghuaX+30700313X_2015_2+2015_T2/courseware/3fcae153a67249ffb1411c15902fdc8c/ac9cb8cbca3049028059de3d3069e128/',\n",
       " 40: 'courses/course-v1:TsinghuaX+30700313X_2015_2+2015_T2/courseware/3fcae153a67249ffb1411c15902fdc8c/b7aa8462eee9492c9ae6f5da3957bd89/',\n",
       " 41: 'courses/course-v1:TsinghuaX+30700313X_2015_2+2015_T2/courseware/4490351167494791aefb140c12831a72/',\n",
       " 42: 'courses/course-v1:TsinghuaX+30700313X_2015_2+2015_T2/courseware/4490351167494791aefb140c12831a72/01c10612c17c430b9bd1801a95ce1439/',\n",
       " 43: 'courses/course-v1:TsinghuaX+30700313X_2015_2+2015_T2/courseware/4490351167494791aefb140c12831a72/0d9508ed858a45689f2247f5d67eace6/',\n",
       " 44: 'courses/course-v1:TsinghuaX+30700313X_2015_2+2015_T2/courseware/4490351167494791aefb140c12831a72/19d3bf3054874912b057535226bcc6d7/',\n",
       " 45: 'courses/course-v1:TsinghuaX+30700313X_2015_2+2015_T2/courseware/4490351167494791aefb140c12831a72/8b98d8441bf04740b4cf6cdf1093fbcf/',\n",
       " 46: 'courses/course-v1:TsinghuaX+30700313X_2015_2+2015_T2/courseware/4490351167494791aefb140c12831a72/8fe870a60150478384436b5222d02fff/',\n",
       " 47: 'courses/course-v1:TsinghuaX+30700313X_2015_2+2015_T2/courseware/4490351167494791aefb140c12831a72/cfc2aee818d84493be1d5c4b8baa7bb4/',\n",
       " 48: 'courses/course-v1:TsinghuaX+30700313X_2015_2+2015_T2/courseware/4490351167494791aefb140c12831a72/ebf1d153fa0c4c859ffe6d62158fbede/',\n",
       " 49: 'courses/course-v1:TsinghuaX+30700313X_2015_2+2015_T2/courseware/4d861a3cc8b0499a903dc6e8e03f8620/',\n",
       " 50: 'courses/course-v1:TsinghuaX+30700313X_2015_2+2015_T2/courseware/4d861a3cc8b0499a903dc6e8e03f8620/061c2c88388b4582a9ed9a036eb221e5/',\n",
       " 51: 'courses/course-v1:TsinghuaX+30700313X_2015_2+2015_T2/courseware/4d861a3cc8b0499a903dc6e8e03f8620/1473e53d086b40fea0dcd0cf32b174e3/',\n",
       " 52: 'courses/course-v1:TsinghuaX+30700313X_2015_2+2015_T2/courseware/4d861a3cc8b0499a903dc6e8e03f8620/577ef5f620bb4c21b476b7232e411caa/',\n",
       " 53: 'courses/course-v1:TsinghuaX+30700313X_2015_2+2015_T2/courseware/4d861a3cc8b0499a903dc6e8e03f8620/8a38875254f347a88504af8ca513eba9/',\n",
       " 54: 'courses/course-v1:TsinghuaX+30700313X_2015_2+2015_T2/courseware/4d861a3cc8b0499a903dc6e8e03f8620/9f1ba0997efc4c27b24f3a99e28541d7/',\n",
       " 55: 'courses/course-v1:TsinghuaX+30700313X_2015_2+2015_T2/courseware/52d30d0ac4484d0eb6340b0af00c5b48/',\n",
       " 56: 'courses/course-v1:TsinghuaX+30700313X_2015_2+2015_T2/courseware/52d30d0ac4484d0eb6340b0af00c5b48/0ff0fb6aa5a94b0a99a20bdefafc64fd/',\n",
       " 57: 'courses/course-v1:TsinghuaX+30700313X_2015_2+2015_T2/courseware/52d30d0ac4484d0eb6340b0af00c5b48/63f2d18bc5ca43a5b2339d4960d41038/',\n",
       " 58: 'courses/course-v1:TsinghuaX+30700313X_2015_2+2015_T2/courseware/52d30d0ac4484d0eb6340b0af00c5b48/656eec04ca8645808dd8bc6c707d9df5/',\n",
       " 59: 'courses/course-v1:TsinghuaX+30700313X_2015_2+2015_T2/courseware/52d30d0ac4484d0eb6340b0af00c5b48/8758832d878249edb5150d99f4703587/',\n",
       " 60: 'courses/course-v1:TsinghuaX+30700313X_2015_2+2015_T2/courseware/52d30d0ac4484d0eb6340b0af00c5b48/caf4289a03fb47ee8c7887afc56a850a/',\n",
       " 61: 'courses/course-v1:TsinghuaX+30700313X_2015_2+2015_T2/courseware/52d30d0ac4484d0eb6340b0af00c5b48/fa0294bbd2614578813f56e86edd6c15/',\n",
       " 62: 'courses/course-v1:TsinghuaX+30700313X_2015_2+2015_T2/courseware/6dbece27c59b41e5bd4c5a77f50163bc/',\n",
       " 63: 'courses/course-v1:TsinghuaX+30700313X_2015_2+2015_T2/courseware/6dbece27c59b41e5bd4c5a77f50163bc/1549fdc2df824c79a83f7ea1f67cad66/',\n",
       " 64: 'courses/course-v1:TsinghuaX+30700313X_2015_2+2015_T2/courseware/6dbece27c59b41e5bd4c5a77f50163bc/52907adce9c0408197a56cbda0975c1c/',\n",
       " 65: 'courses/course-v1:TsinghuaX+30700313X_2015_2+2015_T2/courseware/6dbece27c59b41e5bd4c5a77f50163bc/6d6bbd81dce1477f94e57cc0bbcd8a74/',\n",
       " 66: 'courses/course-v1:TsinghuaX+30700313X_2015_2+2015_T2/courseware/6dbece27c59b41e5bd4c5a77f50163bc/7fc880ded42744528715c1a614c21b7e/',\n",
       " 67: 'courses/course-v1:TsinghuaX+30700313X_2015_2+2015_T2/courseware/beaced6e0d184539959b00514f8de6d8/',\n",
       " 68: 'courses/course-v1:TsinghuaX+30700313X_2015_2+2015_T2/courseware/beaced6e0d184539959b00514f8de6d8/16c392a0e77344c2b8d7d9505774aa0e/',\n",
       " 69: 'courses/course-v1:TsinghuaX+30700313X_2015_2+2015_T2/courseware/beaced6e0d184539959b00514f8de6d8/3376b6bbc5dd4a618004442004f42242/',\n",
       " 70: 'courses/course-v1:TsinghuaX+30700313X_2015_2+2015_T2/courseware/beaced6e0d184539959b00514f8de6d8/374e73c15d514b259585ce26751116bc/',\n",
       " 71: 'courses/course-v1:TsinghuaX+30700313X_2015_2+2015_T2/courseware/beaced6e0d184539959b00514f8de6d8/38383732086046c2b558f366af05f4d5/',\n",
       " 72: 'courses/course-v1:TsinghuaX+30700313X_2015_2+2015_T2/courseware/beaced6e0d184539959b00514f8de6d8/7898c67f2ea34e7ab3336eec3c596a2f/',\n",
       " 73: 'courses/course-v1:TsinghuaX+30700313X_2015_2+2015_T2/courseware/beaced6e0d184539959b00514f8de6d8/df3f802bff2a4b5eb1a19fa03cabf796/',\n",
       " 74: 'courses/course-v1:TsinghuaX+30700313X_2015_2+2015_T2/courseware/d42df2a6f84447cfa17c01a0e214b788/',\n",
       " 75: 'courses/course-v1:TsinghuaX+30700313X_2015_2+2015_T2/courseware/d42df2a6f84447cfa17c01a0e214b788/0761bc6f1a7142a5820050eeb45be814/',\n",
       " 76: 'courses/course-v1:TsinghuaX+30700313X_2015_2+2015_T2/courseware/d42df2a6f84447cfa17c01a0e214b788/0e91c2a3732b4e198ff9797766272c33/',\n",
       " 77: 'courses/course-v1:TsinghuaX+30700313X_2015_2+2015_T2/courseware/d42df2a6f84447cfa17c01a0e214b788/2163d02267014dd3a2938f85d3da8e8c/',\n",
       " 78: 'courses/course-v1:TsinghuaX+30700313X_2015_2+2015_T2/courseware/d42df2a6f84447cfa17c01a0e214b788/bce78798a7284197afad63f25e11d5f0/',\n",
       " 79: 'courses/course-v1:TsinghuaX+30700313X_2015_2+2015_T2/courseware/e0c742667c1f4436a581c3256f49ae9a/',\n",
       " 80: 'courses/course-v1:TsinghuaX+30700313X_2015_2+2015_T2/courseware/e0c742667c1f4436a581c3256f49ae9a/0305b7258e5b443a9d7c97144993921b/',\n",
       " 81: 'courses/course-v1:TsinghuaX+30700313X_2015_2+2015_T2/courseware/e0c742667c1f4436a581c3256f49ae9a/eda47f2d76474dbc89bae985c927d5a9/',\n",
       " 82: 'courses/course-v1:TsinghuaX+30700313X_2015_2+2015_T2/courseware/fed23d2680bb4cd284471784e8d11913/',\n",
       " 83: 'courses/course-v1:TsinghuaX+30700313X_2015_2+2015_T2/courseware/fed23d2680bb4cd284471784e8d11913/50ead94157094369ae1efdd85729ba8b/',\n",
       " 84: 'courses/course-v1:TsinghuaX+30700313X_2015_2+2015_T2/courseware/fed23d2680bb4cd284471784e8d11913/65cfd8331c054ae78aed4ee4fd106797/',\n",
       " 85: 'courses/course-v1:TsinghuaX+30700313X_2015_2+2015_T2/courseware/fed23d2680bb4cd284471784e8d11913/7c3bb2abbb5541f18ded90e869ef642a/',\n",
       " 86: 'courses/course-v1:TsinghuaX+30700313X_2015_2+2015_T2/courseware/fed23d2680bb4cd284471784e8d11913/c9d88f683c644a7ab0d7d82cef205f75/',\n",
       " 87: 'courses/course-v1:TsinghuaX+30700313X_2015_2+2015_T2/courseware/fed23d2680bb4cd284471784e8d11913/cfcfb994dea946b3aba2834bbf19c20c/',\n",
       " 88: 'courses/course-v1:TsinghuaX+30700313X_2015_2+2015_T2/courseware/fed23d2680bb4cd284471784e8d11913/d49c274f68f34978a5962e3ed4fd3485/',\n",
       " 89: 'courses/course-v1:TsinghuaX+30700313X_2015_2+2015_T2/courseware/fed23d2680bb4cd284471784e8d11913/da4ef7a974b9484983cd87c17d80132a/',\n",
       " 90: 'courses/course-v1:TsinghuaX+30700313X_2015_2+2015_T2/courseware/fed23d2680bb4cd284471784e8d11913/ec1582946e94418a87db1650224b0a24/',\n",
       " 91: 'courses/course-v1:TsinghuaX+30700313X_2015_2+2015_T2/discussion/forum',\n",
       " 92: 'courses/course-v1:TsinghuaX+30700313X_2015_2+2015_T2/discussion/forum/i4x-edx-templates-course-Empty/threads/55fd26ef459f0810c7000283',\n",
       " 93: 'courses/course-v1:TsinghuaX+30700313X_2015_2+2015_T2/discussion/forum/i4x-edx-templates-course-Empty/threads/560a5fa0f605ab394b001854',\n",
       " 94: 'courses/course-v1:TsinghuaX+30700313X_2015_2+2015_T2/discussion/forum/i4x-edx-templates-course-Empty/threads/561d0951459f08f824001322',\n",
       " 95: 'courses/course-v1:TsinghuaX+30700313X_2015_2+2015_T2/discussion/forum/i4x-edx-templates-course-Empty/threads/562059d3459f0835ce0016b7',\n",
       " 96: 'courses/course-v1:TsinghuaX+30700313X_2015_2+2015_T2/discussion/forum/i4x-edx-templates-course-Empty/threads/56205ec0f605ab0522002519',\n",
       " 97: 'courses/course-v1:TsinghuaX+30700313X_2015_2+2015_T2/discussion/forum/i4x-edx-templates-course-Empty/threads/5628ad2a459f08ba6e002346',\n",
       " 98: 'courses/course-v1:TsinghuaX+30700313X_2015_2+2015_T2/discussion/forum/i4x-edx-templates-course-Empty/threads/5629b8a0459f0835ce00242c',\n",
       " 99: 'courses/course-v1:TsinghuaX+30700313X_2015_2+2015_T2/discussion/forum/i4x-edx-templates-course-Empty/threads/5638c2f2f605ab0522003b06',\n",
       " 100: 'courses/course-v1:TsinghuaX+30700313X_2015_2+2015_T2/discussion/forum/i4x-edx-templates-course-Empty/threads/564714c7459f08ea52003a40',\n",
       " 101: 'courses/course-v1:TsinghuaX+30700313X_2015_2+2015_T2/discussion/forum/i4x-edx-templates-course-Empty/threads/564fc062459f08ba6e004254',\n",
       " 102: 'courses/course-v1:TsinghuaX+30700313X_2015_2+2015_T2/discussion/forum/i4x-edx-templates-course-Empty/threads/5657fc6b459f08f824004745',\n",
       " 103: 'courses/course-v1:TsinghuaX+30700313X_2015_2+2015_T2/discussion/forum/i4x-edx-templates-course-Empty/threads/565c6945f605ab9279005f67',\n",
       " 104: 'courses/course-v1:TsinghuaX+30700313X_2015_2+2015_T2/discussion/forum/i4x-edx-templates-course-Empty/threads/56640f0d459f0835ce00527a',\n",
       " 105: 'courses/course-v1:TsinghuaX+30700313X_2015_2+2015_T2/discussion/forum/i4x-edx-templates-course-Empty/threads/56691e02f605ab09da000010',\n",
       " 106: 'courses/course-v1:TsinghuaX+30700313X_2015_2+2015_T2/discussion/forum/i4x-edx-templates-course-Empty/threads/56700677f605ab394b006c5b',\n",
       " 107: 'courses/course-v1:TsinghuaX+30700313X_2015_2+2015_T2/discussion/forum/i4x-edx-templates-course-Empty/threads/56776271459f08ba6e005d94',\n",
       " 108: 'courses/course-v1:TsinghuaX+30700313X_2015_2+2015_T2/discussion/forum/i4x-edx-templates-course-Empty/threads/567a16b5459f08f824005d90',\n",
       " 109: 'courses/course-v1:TsinghuaX+30700313X_2015_2+2015_T2/discussion/forum/i4x-edx-templates-course-Empty/threads/567d2ee6f605ab62e8000cb3',\n",
       " 110: 'courses/course-v1:TsinghuaX+30700313X_2015_2+2015_T2/discussion/forum/i4x-edx-templates-course-Empty/threads/5684dd97459f08f8240063f0',\n",
       " 111: 'courses/course-v1:TsinghuaX+30700313X_2015_2+2015_T2/discussion/forum/i4x-edx-templates-course-Empty/threads/5690be54459f08ea52006f5c',\n",
       " 112: 'courses/course-v1:TsinghuaX+30700313X_2015_2+2015_T2/discussion/forum/i4x-edx-templates-course-Empty/threads/569314fdf605ab62e800175f',\n",
       " 113: 'courses/course-v1:TsinghuaX+30700313X_2015_2+2015_T2/discussion/forum/users/1049328',\n",
       " 114: 'courses/course-v1:TsinghuaX+30700313X_2015_2+2015_T2/discussion/forum/users/1073111',\n",
       " 115: 'courses/course-v1:TsinghuaX+30700313X_2015_2+2015_T2/discussion/forum/users/1199888',\n",
       " 116: 'courses/course-v1:TsinghuaX+30700313X_2015_2+2015_T2/discussion/forum/users/1227082',\n",
       " 117: 'courses/course-v1:TsinghuaX+30700313X_2015_2+2015_T2/discussion/forum/users/1341998',\n",
       " 118: 'courses/course-v1:TsinghuaX+30700313X_2015_2+2015_T2/discussion/forum/users/1364662',\n",
       " 119: 'courses/course-v1:TsinghuaX+30700313X_2015_2+2015_T2/discussion/forum/users/227513',\n",
       " 120: 'courses/course-v1:TsinghuaX+30700313X_2015_2+2015_T2/discussion/forum/users/370631',\n",
       " 121: 'courses/course-v1:TsinghuaX+30700313X_2015_2+2015_T2/discussion/forum/users/572652',\n",
       " 122: 'courses/course-v1:TsinghuaX+30700313X_2015_2+2015_T2/exams',\n",
       " 123: 'courses/course-v1:TsinghuaX+30700313X_2015_2+2015_T2/info',\n",
       " 124: 'courses/course-v1:TsinghuaX+30700313X_2015_2+2015_T2/progress',\n",
       " 125: 'sink',\n",
       " 126: 'source',\n",
       " 127: 'verify_student/information/course-v1:TsinghuaX+30700313X_2015_2+2015_T2',\n",
       " 128: 'verify_student/reverification/course-v1:TsinghuaX+30700313X_2015_2+2015_T2/section/block-v1:TsinghuaX+30700313X_2015_2+2015_T2+type@sequential+block@22d8dea1073b4b97b47d0ca3bb718659',\n",
       " 129: 'verify_student/reverification/course-v1:TsinghuaX+30700313X_2015_2+2015_T2/section/block-v1:TsinghuaX+30700313X_2015_2+2015_T2+type@sequential+block@374e73c15d514b259585ce26751116bc',\n",
       " 130: 'verify_student/reverification/course-v1:TsinghuaX+30700313X_2015_2+2015_T2/section/block-v1:TsinghuaX+30700313X_2015_2+2015_T2+type@sequential+block@63f2d18bc5ca43a5b2339d4960d41038',\n",
       " 131: 'verify_student/reverification/course-v1:TsinghuaX+30700313X_2015_2+2015_T2/section/block-v1:TsinghuaX+30700313X_2015_2+2015_T2+type@sequential+block@7f9f9fad11294d479b3bdd89fb24ff11',\n",
       " 132: 'verify_student/reverification/course-v1:TsinghuaX+30700313X_2015_2+2015_T2/section/block-v1:TsinghuaX+30700313X_2015_2+2015_T2+type@sequential+block@7fc880ded42744528715c1a614c21b7e',\n",
       " 133: 'verify_student/reverification/course-v1:TsinghuaX+30700313X_2015_2+2015_T2/section/block-v1:TsinghuaX+30700313X_2015_2+2015_T2+type@sequential+block@aa8983c8ec364c8d9d779fa1b1a5520b',\n",
       " 134: 'verify_student/reverification/course-v1:TsinghuaX+30700313X_2015_2+2015_T2/section/block-v1:TsinghuaX+30700313X_2015_2+2015_T2+type@sequential+block@c8b37703320e4ab08c34efc0bef496b8',\n",
       " 135: 'verify_student/reverification/course-v1:TsinghuaX+30700313X_2015_2+2015_T2/section/block-v1:TsinghuaX+30700313X_2015_2+2015_T2+type@sequential+block@cfcfb994dea946b3aba2834bbf19c20c'}"
      ]
     },
     "execution_count": 88,
     "metadata": {},
     "output_type": "execute_result"
    }
   ],
   "source": [
    "get_dict(res_excellent[0], res_excellent[3])"
   ]
  }
 ],
 "metadata": {
  "anaconda-cloud": {},
  "celltoolbar": "Raw Cell Format",
  "kernelspec": {
   "display_name": "Python 3",
   "language": "python",
   "name": "python3"
  },
  "language_info": {
   "codemirror_mode": {
    "name": "ipython",
    "version": 3
   },
   "file_extension": ".py",
   "mimetype": "text/x-python",
   "name": "python",
   "nbconvert_exporter": "python",
   "pygments_lexer": "ipython3",
   "version": "3.7.0"
  },
  "toc": {
   "colors": {
    "hover_highlight": "#DAA520",
    "running_highlight": "#FF0000",
    "selected_highlight": "#FFD700"
   },
   "moveMenuLeft": true,
   "nav_menu": {
    "height": "94px",
    "width": "839px"
   },
   "navigate_menu": true,
   "number_sections": true,
   "sideBar": true,
   "threshold": 4,
   "toc_cell": false,
   "toc_position": {
    "height": "728px",
    "left": "0px",
    "right": "2175.51px",
    "top": "108.984px",
    "width": "225px"
   },
   "toc_section_display": "block",
   "toc_window_display": true,
   "widenNotebook": false
  }
 },
 "nbformat": 4,
 "nbformat_minor": 2
}
