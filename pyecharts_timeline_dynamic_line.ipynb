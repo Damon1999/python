{
 "cells": [
  {
   "cell_type": "code",
   "execution_count": null,
   "metadata": {},
   "outputs": [],
   "source": [
    "import pandas as pd\n",
    "import datetime\n",
    "from pyecharts import options as opts\n",
    "from pyecharts.charts import Line, Timeline\n",
    "import os\n",
    "os.getcwd()#获取当前路径"
   ]
  },
  {
   "cell_type": "code",
   "execution_count": null,
   "metadata": {},
   "outputs": [],
   "source": [
    "#数据下载：https://cn.investing.com/\n",
    "data = pd.read_csv(\"bili2.csv\")\n",
    "data.tail(10)"
   ]
  },
  {
   "cell_type": "code",
   "execution_count": null,
   "metadata": {},
   "outputs": [],
   "source": [
    "data.columns = (['date','close','open','high','low','volume','percentage'])\n",
    "data['date'] = pd.to_datetime(data.date,format=\"%Y年%m月%d日\")\n",
    "data = data.sort_values(by='date',ascending=True)"
   ]
  },
  {
   "cell_type": "markdown",
   "metadata": {},
   "source": [
    "# 单线-无图标"
   ]
  },
  {
   "cell_type": "code",
   "execution_count": null,
   "metadata": {},
   "outputs": [],
   "source": [
    "color0 = ['#FF76A2']\n",
    "tl = Timeline()\n",
    "for i in range(0,len(data)):\n",
    "    x_max = list(data['date'])[i]+datetime.timedelta(days=70)\n",
    "    y_max = int(max(list(data['close'])[0:i+1]))+3\n",
    "    title_date = list(data['date'])[i].strftime('%Y-%m-%d')\n",
    "    c = (\n",
    "        Line(\n",
    "            init_opts=opts.InitOpts(\n",
    "            width='1500px',\n",
    "            height='900px', )\n",
    "        )\n",
    "        .add_xaxis(list(data['date'])[0:i])\n",
    "        .add_yaxis(\n",
    "            series_name=\"\",\n",
    "            y_axis=list(data['close'])[0:i], is_smooth=True,is_symbol_show=False,\n",
    "            linestyle_opts=opts.LineStyleOpts(color=color0[0],width=3),\n",
    "        )\n",
    "\n",
    "        .set_global_opts(\n",
    "            title_opts=opts.TitleOpts(\"bilibili上市以来每日收盘价\\n\\n        {}\".format(title_date),pos_left=350,padding=[30,20]),\n",
    "            xaxis_opts=opts.AxisOpts(type_=\"time\",max_=x_max),#, interval=10,min_=i-5,split_number=20,axistick_opts=opts.AxisTickOpts(length=2500),axisline_opts=opts.AxisLineOpts(linestyle_opts=opts.LineStyleOpts(color=\"grey\"))\n",
    "            yaxis_opts=opts.AxisOpts(min_=9,max_=y_max),#坐标轴颜色,axisline_opts=opts.AxisLineOpts(linestyle_opts=opts.LineStyleOpts(color=\"grey\"))\n",
    "        )\n",
    "    )\n",
    "    tl.add(c, \"{}\".format(list(data['date'])[i]))\n",
    "    tl.add_schema(axis_type='time',play_interval=30, pos_bottom=\"-29px\",\n",
    "                  is_loop_play=False,width=\"780px\",pos_left='30px')#,pos_top=470,label_opts = opts.LabelOpts(is_show=False)\n",
    "tl.render(\"单线-无图标.html\")"
   ]
  },
  {
   "cell_type": "markdown",
   "metadata": {},
   "source": [
    "# 单线-有图标"
   ]
  },
  {
   "cell_type": "code",
   "execution_count": null,
   "metadata": {},
   "outputs": [],
   "source": [
    "# symbols = {'TV':\"path://M830.577778 227.555556H657.066667l74.903703-70.162963c11.377778-11.377778 11.377778-29.392593 0-39.822223-5.688889-5.688889-13.274074-8.533333-21.807407-8.533333-7.585185 0-15.17037 2.844444-21.807407 8.533333L570.785185 227.555556H456.059259L338.488889 117.57037c-5.688889-5.688889-13.274074-8.533333-21.807408-8.533333-7.585185 0-15.17037 2.844444-21.807407 8.533333-11.377778 11.377778-11.377778 29.392593 0 39.822223L369.777778 227.555556H193.422222C117.57037 227.555556 56.888889 295.822222 56.888889 381.155556v332.8c0 85.333333 60.681481 153.6 136.533333 153.6h42.666667c0 25.6 22.755556 47.407407 50.251852 47.407407s50.251852-20.859259 50.251852-47.407407h353.659259c0 25.6 22.755556 47.407407 50.251852 47.407407s50.251852-20.859259 50.251852-47.407407h38.874074c75.851852 0 136.533333-69.214815 136.533333-153.6V381.155556c0.948148-85.333333-59.733333-153.6-135.585185-153.6zM698.785185 574.577778L425.718519 733.866667c-22.755556 13.274074-41.718519 2.844444-41.718519-24.651852V389.688889c0-26.548148 18.962963-37.925926 41.718519-24.651852l273.066666 160.237037c22.755556 14.222222 22.755556 35.081481 0 49.303704z\"}\n",
    "color0 = ['#FF76A2']\n",
    "tl = Timeline()\n",
    "for i in range(0,len(data)):\n",
    "    coordy_close = list(data['close'])[i]\n",
    "    coordx_close = list(data['date'])[i]\n",
    "    x_max = list(data['date'])[i]+datetime.timedelta(days=70)\n",
    "    y_max = int(max(list(data['close'])[0:i+1]))+3\n",
    "    title_date = list(data['date'])[i].strftime('%Y-%m-%d')\n",
    "    c = (\n",
    "        Line(\n",
    "            init_opts=opts.InitOpts(\n",
    "            width='1500px',\n",
    "            height='900px', )\n",
    "        )\n",
    "        .add_xaxis(list(data['date'])[0:i])\n",
    "        .add_yaxis(\n",
    "            series_name=\"\",\n",
    "            y_axis=list(data['close'])[0:i], is_smooth=True,is_symbol_show=False,\n",
    "            linestyle_opts=opts.LineStyleOpts(color=color0[0],width=6),\n",
    "            markpoint_opts=opts.MarkPointOpts(\n",
    "                data=[\n",
    "                    opts.MarkPointItem(name=\"close_price\",value=coordy_close,coord=[coordx_close,coordy_close],symbol=symbols['TV'],symbol_size=55,#symbol=symbols['circle'],symbol_size=20,\n",
    "                                       itemstyle_opts=opts.ItemStyleOpts(color=color0[0])),#,border_color=\"red\"\n",
    "                ],\n",
    "                label_opts=opts.LabelOpts(font_size=18,color=color0[0],font_weight=\"bold\",position=\"right\")\n",
    "            )\n",
    "            \n",
    "        )\n",
    "\n",
    "        .set_global_opts(\n",
    "            title_opts=opts.TitleOpts(\"bilibili上市以来每日收盘价\\n\\n        {}\".format(title_date),pos_left=350,padding=[30,20]),\n",
    "            xaxis_opts=opts.AxisOpts(type_=\"time\",max_=x_max),#, interval=10,min_=i-5,split_number=20,axistick_opts=opts.AxisTickOpts(length=2500),axisline_opts=opts.AxisLineOpts(linestyle_opts=opts.LineStyleOpts(color=\"grey\"))\n",
    "            yaxis_opts=opts.AxisOpts(min_=9,max_=y_max),#坐标轴颜色,axisline_opts=opts.AxisLineOpts(linestyle_opts=opts.LineStyleOpts(color=\"grey\"))\n",
    "        )\n",
    "    )\n",
    "    tl.add(c, \"{}\".format(list(data['date'])[i]))\n",
    "    tl.add_schema(axis_type='time',play_interval=30, pos_bottom=\"-29px\",\n",
    "                  is_loop_play=False,width=\"780px\",pos_left='30px')#,pos_top=470,label_opts = opts.LabelOpts(is_show=False)\n",
    "tl.render(\"单线-有图标.html\")"
   ]
  },
  {
   "cell_type": "markdown",
   "metadata": {},
   "source": [
    "# 双线-无图标"
   ]
  },
  {
   "cell_type": "code",
   "execution_count": null,
   "metadata": {},
   "outputs": [],
   "source": [
    "color0 = ['#FF76A2','#24ACE6']\n",
    "tl = Timeline()\n",
    "for i in range(0,len(data)):\n",
    "    x_max = list(data['date'])[i]+datetime.timedelta(days=70)\n",
    "    y_max = int(max(list(data['high'])[0:i+1]))+3\n",
    "    title_date = list(data['date'])[i].strftime('%Y-%m-%d')\n",
    "    c = (\n",
    "        Line(\n",
    "            init_opts=opts.InitOpts(\n",
    "            #设置动画\n",
    "            #animation_opts=opts.AnimationOpts(animation_delay_update=800),#(animation_delay=1000, animation_easing=\"elasticOut\"),\n",
    "            #设置宽度、高度\n",
    "            width='1500px',\n",
    "            height='900px', )\n",
    "        )\n",
    "        .add_xaxis(list(data['date'])[0:i])\n",
    "        .add_yaxis(\n",
    "            series_name=\"\",\n",
    "            y_axis=list(data['high'])[0:i], is_smooth=True,is_symbol_show=False,\n",
    "            linestyle_opts=opts.LineStyleOpts(color=color0[0],width=3),\n",
    "\n",
    "        )\n",
    "        .add_yaxis(\n",
    "            series_name=\"\",\n",
    "            y_axis=list(data['low'])[0:i], is_smooth=True,is_symbol_show=False,\n",
    "            linestyle_opts=opts.LineStyleOpts(color=color0[1],width=3),\n",
    "        )\n",
    "        .set_global_opts(\n",
    "            title_opts=opts.TitleOpts(\"bilibili上市以来每日最高和最低\\n\\n            {}\".format(title_date),pos_left=330,padding=[30,20]),\n",
    "            xaxis_opts=opts.AxisOpts(type_=\"time\",max_=x_max),#, interval=10,min_=i-5,split_number=20,axistick_opts=opts.AxisTickOpts(length=2500),axisline_opts=opts.AxisLineOpts(linestyle_opts=opts.LineStyleOpts(color=\"grey\"))\n",
    "            yaxis_opts=opts.AxisOpts(min_=9,max_=y_max),#坐标轴颜色,axisline_opts=opts.AxisLineOpts(linestyle_opts=opts.LineStyleOpts(color=\"grey\"))\n",
    "        )\n",
    "    )\n",
    "    tl.add(c, \"{}\".format(list(data['date'])[i]))\n",
    "    tl.add_schema(axis_type='time',play_interval=30, pos_bottom=\"-29px\",\n",
    "                  is_loop_play=False,width=\"780px\",pos_left='30px')#,pos_top=470,label_opts = opts.LabelOpts(is_show=False)\n",
    "tl.render(\"双线-无图标.html\")"
   ]
  },
  {
   "cell_type": "markdown",
   "metadata": {},
   "source": [
    "# 双线-有图标"
   ]
  },
  {
   "cell_type": "code",
   "execution_count": null,
   "metadata": {},
   "outputs": [],
   "source": [
    "symbols = {'TV':\"path://M830.577778 227.555556H657.066667l74.903703-70.162963c11.377778-11.377778 11.377778-29.392593 0-39.822223-5.688889-5.688889-13.274074-8.533333-21.807407-8.533333-7.585185 0-15.17037 2.844444-21.807407 8.533333L570.785185 227.555556H456.059259L338.488889 117.57037c-5.688889-5.688889-13.274074-8.533333-21.807408-8.533333-7.585185 0-15.17037 2.844444-21.807407 8.533333-11.377778 11.377778-11.377778 29.392593 0 39.822223L369.777778 227.555556H193.422222C117.57037 227.555556 56.888889 295.822222 56.888889 381.155556v332.8c0 85.333333 60.681481 153.6 136.533333 153.6h42.666667c0 25.6 22.755556 47.407407 50.251852 47.407407s50.251852-20.859259 50.251852-47.407407h353.659259c0 25.6 22.755556 47.407407 50.251852 47.407407s50.251852-20.859259 50.251852-47.407407h38.874074c75.851852 0 136.533333-69.214815 136.533333-153.6V381.155556c0.948148-85.333333-59.733333-153.6-135.585185-153.6zM698.785185 574.577778L425.718519 733.866667c-22.755556 13.274074-41.718519 2.844444-41.718519-24.651852V389.688889c0-26.548148 18.962963-37.925926 41.718519-24.651852l273.066666 160.237037c22.755556 14.222222 22.755556 35.081481 0 49.303704z\"}\n",
    "color0 = ['#FF76A2','#24ACE6']\n",
    "tl = Timeline()\n",
    "for i in range(0,len(data)):\n",
    "    coordy_high = list(data['high'])[i]\n",
    "    coordx = list(data['date'])[i]\n",
    "    coordy_low = list(data['low'])[i]\n",
    "    x_max = list(data['date'])[i]+datetime.timedelta(days=70)\n",
    "    y_max = int(max(list(data['high'])[0:i+1]))+3\n",
    "    title_date = list(data['date'])[i].strftime('%Y-%m-%d')\n",
    "    c = (\n",
    "        Line(\n",
    "            init_opts=opts.InitOpts(\n",
    "            #设置动画\n",
    "            animation_opts=opts.AnimationOpts(animation_delay_update=800),#(animation_delay=1000, animation_easing=\"elasticOut\"),\n",
    "            #设置宽度、高度\n",
    "            width='1500px',\n",
    "            height='900px', )\n",
    "        )\n",
    "        .add_xaxis(list(data['date'])[0:i])\n",
    "        .add_yaxis(\n",
    "            series_name=\"\",\n",
    "            y_axis=list(data['high'])[0:i], is_smooth=True,is_symbol_show=False,\n",
    "            linestyle_opts=opts.LineStyleOpts(color=color0[0],width=3),\n",
    "            markpoint_opts=opts.MarkPointOpts(\n",
    "                data=[\n",
    "                    opts.MarkPointItem(name=\"high_price\",value=coordy_high,coord=[coordx,coordy_high],symbol=symbols['TV'],symbol_size=35,#symbol=symbols['circle'],symbol_size=20,\n",
    "                                       itemstyle_opts=opts.ItemStyleOpts(color=color0[0])),#,border_color=\"red\"\n",
    "                ],\n",
    "                label_opts=opts.LabelOpts(font_size=18,color=color0[0],font_weight=\"bold\",position=\"right\")\n",
    "            )\n",
    "\n",
    "        )\n",
    "        .add_yaxis(\n",
    "            series_name=\"\",\n",
    "            y_axis=list(data['low'])[0:i], is_smooth=True,is_symbol_show=False,\n",
    "            linestyle_opts=opts.LineStyleOpts(color=color0[1],width=3),\n",
    "            markpoint_opts=opts.MarkPointOpts(\n",
    "                data=[\n",
    "                    opts.MarkPointItem(name=\"low_price\",value=coordy_low,coord=[coordx,coordy_low],symbol=symbols['TV'],symbol_size=35,#symbol=symbols['circle'],symbol_size=20,\n",
    "                                       itemstyle_opts=opts.ItemStyleOpts(color=color0[1])),#,border_color=\"red\"\n",
    "                ],\n",
    "                label_opts=opts.LabelOpts(font_size=18,color=color0[0],font_weight=\"bold\",position=\"right\")\n",
    "            )\n",
    "        )\n",
    "        .set_global_opts(\n",
    "            title_opts=opts.TitleOpts(\"bilibili上市以来每日最高和最低\\n\\n            {}\".format(title_date),pos_left=330,padding=[30,20]),\n",
    "            xaxis_opts=opts.AxisOpts(type_=\"time\",max_=x_max),#, interval=10,min_=i-5,split_number=20,axistick_opts=opts.AxisTickOpts(length=2500),axisline_opts=opts.AxisLineOpts(linestyle_opts=opts.LineStyleOpts(color=\"grey\"))\n",
    "            yaxis_opts=opts.AxisOpts(min_=9,max_=y_max),#坐标轴颜色,axisline_opts=opts.AxisLineOpts(linestyle_opts=opts.LineStyleOpts(color=\"grey\"))\n",
    "        )\n",
    "    )\n",
    "    tl.add(c, \"{}\".format(list(data['date'])[i]))\n",
    "    tl.add_schema(axis_type='time',play_interval=30, pos_bottom=\"-29px\",\n",
    "                  is_loop_play=False,width=\"780px\",pos_left='30px')#,pos_top=470,label_opts = opts.LabelOpts(is_show=False)\n",
    "tl.render(\"双线-有图标.html\")"
   ]
  }
 ],
 "metadata": {
  "kernelspec": {
   "display_name": "Python 3",
   "language": "python",
   "name": "python3"
  },
  "language_info": {
   "codemirror_mode": {
    "name": "ipython",
    "version": 3
   },
   "file_extension": ".py",
   "mimetype": "text/x-python",
   "name": "python",
   "nbconvert_exporter": "python",
   "pygments_lexer": "ipython3",
   "version": "3.7.1"
  },
  "toc": {
   "base_numbering": 1,
   "nav_menu": {},
   "number_sections": true,
   "sideBar": true,
   "skip_h1_title": false,
   "title_cell": "Table of Contents",
   "title_sidebar": "Contents",
   "toc_cell": false,
   "toc_position": {},
   "toc_section_display": true,
   "toc_window_display": false
  }
 },
 "nbformat": 4,
 "nbformat_minor": 2
}
